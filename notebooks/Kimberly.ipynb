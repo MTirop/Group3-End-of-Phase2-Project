{
  "nbformat": 4,
  "nbformat_minor": 0,
  "metadata": {
    "colab": {
      "provenance": []
    },
    "kernelspec": {
      "name": "python3",
      "display_name": "Python 3"
    },
    "language_info": {
      "name": "python"
    }
  },
  "cells": [
    {
      "cell_type": "markdown",
      "source": [
        "# **FILM INDUSTRY ANALYSIS**\n",
        "\n",
        "# 1.0 Business Problem\n",
        "\n",
        "The company wants to create a new movie studio and produce original video content, but they lack knowledge and experience in creating movies.\n",
        "\n",
        "My role is to explore what types of films are currently doing the best at the box office and translate those findings into actionable insights that the head of the new movie studio can use to help decide what type of films to create.\n",
        "\n",
        "# 2.0 Data Source\n",
        "\n",
        "The datasets are collected from various online movie databases and resources:\n",
        "\n",
        "*   Box Office Mojo\n",
        "*   IMDB (Internet Movie Database)\n",
        "*   Rotten Tomatoes\n",
        "*   TheMovieDB\n",
        "*   The Numbers\n",
        "\n",
        "\n",
        "\n",
        "\n",
        "\n",
        "\n",
        "\n"
      ],
      "metadata": {
        "id": "utGkAUa5hTaw"
      }
    },
    {
      "cell_type": "code",
      "source": [
        "import pandas as pd\n",
        "import sqlite3\n",
        "import numpy as np\n",
        "import matplotlib.pyplot as plt\n",
        "import seaborn as sns\n",
        "import warnings\n",
        "warnings.simplefilter(action='ignore', category=FutureWarning)"
      ],
      "metadata": {
        "id": "vaJCChWTl4qo"
      },
      "execution_count": 1,
      "outputs": []
    },
    {
      "cell_type": "code",
      "source": [],
      "metadata": {
        "id": "wewsLTAomoSG"
      },
      "execution_count": null,
      "outputs": []
    }
  ]
}